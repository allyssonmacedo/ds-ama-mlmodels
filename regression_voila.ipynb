{
 "cells": [
  {
   "cell_type": "code",
   "execution_count": 4,
   "metadata": {
    "scrolled": false
   },
   "outputs": [
    {
     "name": "stdout",
     "output_type": "stream",
     "text": [
      "Requirement already satisfied: numpy in c:\\users\\mathe\\appdata\\local\\programs\\python\\python310\\lib\\site-packages (1.23.5)\n",
      "Requirement already satisfied: pandas in c:\\users\\mathe\\appdata\\local\\programs\\python\\python310\\lib\\site-packages (1.4.1)\n",
      "Requirement already satisfied: python-dateutil>=2.8.1 in c:\\users\\mathe\\appdata\\local\\programs\\python\\python310\\lib\\site-packages (from pandas) (2.8.2)\n",
      "Requirement already satisfied: pytz>=2020.1 in c:\\users\\mathe\\appdata\\local\\programs\\python\\python310\\lib\\site-packages (from pandas) (2021.3)\n",
      "Requirement already satisfied: numpy>=1.21.0 in c:\\users\\mathe\\appdata\\local\\programs\\python\\python310\\lib\\site-packages (from pandas) (1.23.5)\n",
      "Requirement already satisfied: six>=1.5 in c:\\users\\mathe\\appdata\\local\\programs\\python\\python310\\lib\\site-packages (from python-dateutil>=2.8.1->pandas) (1.16.0)\n",
      "Requirement already satisfied: scikit-learn in c:\\users\\mathe\\appdata\\local\\programs\\python\\python310\\lib\\site-packages (1.1.1)\n",
      "Requirement already satisfied: numpy>=1.17.3 in c:\\users\\mathe\\appdata\\local\\programs\\python\\python310\\lib\\site-packages (from scikit-learn) (1.23.5)\n",
      "Requirement already satisfied: scipy>=1.3.2 in c:\\users\\mathe\\appdata\\local\\programs\\python\\python310\\lib\\site-packages (from scikit-learn) (1.8.0)\n",
      "Requirement already satisfied: joblib>=1.0.0 in c:\\users\\mathe\\appdata\\local\\programs\\python\\python310\\lib\\site-packages (from scikit-learn) (1.1.0)\n",
      "Requirement already satisfied: threadpoolctl>=2.0.0 in c:\\users\\mathe\\appdata\\local\\programs\\python\\python310\\lib\\site-packages (from scikit-learn) (3.1.0)\n",
      "Requirement already satisfied: openpyxl in c:\\users\\mathe\\appdata\\local\\programs\\python\\python310\\lib\\site-packages (3.0.10)\n",
      "Requirement already satisfied: et-xmlfile in c:\\users\\mathe\\appdata\\local\\programs\\python\\python310\\lib\\site-packages (from openpyxl) (1.1.0)\n"
     ]
    }
   ],
   "source": [
    "# #Importando as bibliotecas\n",
    "# !pip install numpy\n",
    "#!pip install pandas\n",
    "# !pip install scikit-learn\n",
    "# !pip install openpyxl"
   ]
  },
  {
   "cell_type": "code",
   "execution_count": 3,
   "metadata": {},
   "outputs": [],
   "source": [
    "# Importando as bibliotecas\n",
    "import numpy as np\n",
    "import pandas as pd\n",
    "from sklearn.linear_model import LogisticRegression\n",
    "from sklearn.model_selection import train_test_split\n",
    "import ipywidgets as widgets"
   ]
  },
  {
   "cell_type": "code",
   "execution_count": null,
   "metadata": {},
   "outputs": [],
   "source": [
    "#!jupyter nbextension enable --py widgetsnbextension --sys-prefix\n",
    "#!jupyter serverextension enable voila --sys-prefix"
   ]
  },
  {
   "cell_type": "code",
   "execution_count": 2,
   "metadata": {},
   "outputs": [],
   "source": [
    "# Importando a base\n",
    "dados = pd.read_excel('perfil_clientes_edits.xlsx')\n",
    "#dados.head(3)"
   ]
  },
  {
   "cell_type": "code",
   "execution_count": 5,
   "metadata": {},
   "outputs": [],
   "source": [
    "## criando coluna de targets\n",
    "dados['target_gestor'] = 0\n",
    "mente_aberta = dados['Caracteristica do Gestor'] == '\"Cabeça aberta\"'\n",
    "dados.loc[mente_aberta, 'target_gestor'] = 1\n",
    "\n",
    "dados['target_suporte'] = 0\n",
    "baixo_suporte = (dados['Frequencia Suporte'] == 'Menos de uma vez por semana') | (dados['Frequencia Suporte'] == 'Raramente')\n",
    "#baixo_suporte = dados['Frequencia Suporte'] == 'Raramente'\n",
    "dados.loc[baixo_suporte, 'target_suporte'] = 1\n"
   ]
  },
  {
   "cell_type": "code",
   "execution_count": 6,
   "metadata": {},
   "outputs": [],
   "source": [
    "dados_y = dados['target_suporte']\n",
    "dados_x = dados.drop(dados[['Frequencia Suporte', 'Tipo de Suporte','Categoria Suporte','target_gestor','target_suporte']], axis=1)"
   ]
  },
  {
   "cell_type": "code",
   "execution_count": 7,
   "metadata": {},
   "outputs": [],
   "source": [
    "# Convertendo valores de string para valores númericos para conseguirmos usar no modelo de Regressão.\n",
    "dummies = pd.get_dummies(dados_x)"
   ]
  },
  {
   "cell_type": "code",
   "execution_count": 8,
   "metadata": {},
   "outputs": [],
   "source": [
    "# Carregando os dados em um array numpy\n",
    "X = np.array(dummies.values)\n",
    "y = np.array(dados_y.values)"
   ]
  },
  {
   "cell_type": "code",
   "execution_count": 9,
   "metadata": {},
   "outputs": [],
   "source": [
    "# Dividir os dados em conjunto de treinamento e teste\n",
    "X_train, X_test, y_train, y_test = train_test_split(X, y, test_size=0.3, random_state=45)"
   ]
  },
  {
   "cell_type": "code",
   "execution_count": 10,
   "metadata": {},
   "outputs": [],
   "source": [
    "# Para as variáveis de treino\n",
    "\n",
    "# normalizando e padronizando os dados\n",
    "# MinMaxScaler é usado para normalizar as variáveis, e StandardScaler é usado para padronizar\n",
    "from sklearn.preprocessing import MinMaxScaler, StandardScaler\n",
    "\n",
    "# dados x (features) normalizados\n",
    "# X = np.array(X)\n",
    "\n",
    "# normalizando\n",
    "scaler = MinMaxScaler()\n",
    "scaler.fit(X_train)\n",
    "normalized_data = scaler.transform(X_train)\n",
    "#print(normalized_data)\n",
    "\n",
    "# Padronizando\n",
    "scaler = StandardScaler()\n",
    "scaler.fit(X_train)\n",
    "standardized_data = scaler.transform(X_train)\n",
    "#print(standardized_data)\n",
    "\n",
    "#print(standardized_data.shape)\n",
    "\n",
    "X_train = standardized_data"
   ]
  },
  {
   "cell_type": "code",
   "execution_count": 11,
   "metadata": {},
   "outputs": [],
   "source": [
    "# Para as variáveis de teste\n",
    "\n",
    "# normalizando e padronizando os dados\n",
    "# MinMaxScaler é usado para normalizar as variáveis, e StandardScaler é usado para padronizar\n",
    "from sklearn.preprocessing import MinMaxScaler, StandardScaler\n",
    "\n",
    "# dados x (features) normalizados\n",
    "# X = np.array(X)\n",
    "\n",
    "# normalizando\n",
    "scaler = MinMaxScaler()\n",
    "scaler.fit(X_test)\n",
    "normalized_data = scaler.transform(X_test)\n",
    "#print(normalized_data)\n",
    "\n",
    "# Padronizando\n",
    "scaler = StandardScaler()\n",
    "scaler.fit(X_test)\n",
    "standardized_data = scaler.transform(X_test)\n",
    "#print(standardized_data)\n",
    "\n",
    "#print(standardized_data.shape)\n",
    "\n",
    "X_test = standardized_data"
   ]
  },
  {
   "cell_type": "code",
   "execution_count": 12,
   "metadata": {},
   "outputs": [],
   "source": [
    "# Criando o modelo\n",
    "model = LogisticRegression(random_state=0,max_iter=1000)\n",
    "\n",
    "# Treinando o modelo\n",
    "model.fit(X_train, y_train)\n",
    "\n",
    "clf2 = LogisticRegression(random_state=45,max_iter=1000).fit(X_train, y_train)"
   ]
  },
  {
   "cell_type": "code",
   "execution_count": 13,
   "metadata": {},
   "outputs": [],
   "source": [
    "# Fazendo a previsão das classes\n",
    "y_pred2 = clf2.predict(X_test)"
   ]
  },
  {
   "cell_type": "code",
   "execution_count": 14,
   "metadata": {},
   "outputs": [],
   "source": [
    "# Avaliando o erro\n",
    "\n",
    "#from sklearn.metrics import confusion_matrix\n",
    "\n",
    "#confusion_matrix(y_test,y_pred2)"
   ]
  },
  {
   "cell_type": "code",
   "execution_count": 15,
   "metadata": {},
   "outputs": [],
   "source": [
    "# Avaliando o modelo \n",
    "# score = model.score(X_test, y_test)\n",
    "\n",
    "from sklearn import metrics\n",
    "\n",
    "score = metrics.accuracy_score(y_test, y_pred2)\n",
    "\n",
    "#print('Acurácia:', score)\n",
    "\n",
    "# Percentagem de acerto"
   ]
  },
  {
   "cell_type": "code",
   "execution_count": 16,
   "metadata": {},
   "outputs": [],
   "source": [
    "# Usando o modelo para previsão\n",
    "predictions = model.predict(X_test)\n",
    "#print(predictions)"
   ]
  },
  {
   "cell_type": "code",
   "execution_count": 17,
   "metadata": {},
   "outputs": [],
   "source": [
    "# # Visualizando o gráfico\n",
    "\n",
    "# import matplotlib.pyplot as plt\n",
    "# from scipy.special import expit\n",
    "\n",
    "# x = np.linspace(X_train.min(), X_train.max(), 100)\n",
    "# y = expit(x)\n",
    "# plt.plot(x, y)\n",
    "# plt.grid()\n",
    "# plt.xlim(X_train.min(), X_train.max())\n",
    "# plt.xlabel('x')\n",
    "# plt.title('expit(x)')\n",
    "# plt.show()"
   ]
  },
  {
   "cell_type": "code",
   "execution_count": 18,
   "metadata": {},
   "outputs": [],
   "source": [
    "# # Comparando a previsão com o valor real\n",
    "# print('O valor de y teste é:')\n",
    "# print(y_test)\n",
    "\n",
    "# print('O valor do y_pred é:')\n",
    "# print(predictions)"
   ]
  },
  {
   "cell_type": "code",
   "execution_count": 19,
   "metadata": {},
   "outputs": [],
   "source": [
    "# Fazendo a previsão das probabilidades\n",
    "proba = clf2.predict_proba(X_test)\n",
    "#print(proba)\n",
    "\n",
    "# Probabilidade de acionar o suporte até 1vez na semana é de:\n",
    "probabilidade_baixo_suporte = proba[:,1]\n",
    "\n",
    "#list(probabilidade_baixo_suporte)"
   ]
  },
  {
   "cell_type": "markdown",
   "metadata": {},
   "source": [
    "### Prevendo novos valores"
   ]
  },
  {
   "cell_type": "code",
   "execution_count": 20,
   "metadata": {},
   "outputs": [],
   "source": [
    "dados_x_input = dados.drop(dados[['Frequencia Suporte', 'Tipo de Suporte','Categoria Suporte','target_gestor','target_suporte']], axis=1)\n",
    "dados_x_input['Input'] = 0\n",
    "\n",
    "dados_y = dados['target_suporte']"
   ]
  },
  {
   "cell_type": "code",
   "execution_count": 21,
   "metadata": {},
   "outputs": [],
   "source": [
    "import ipywidgets as widgets\n",
    "wid_atividade = widgets.Dropdown(name='Atividade')\n",
    "wid_atividade.options = list(dados_x_input.Atividade.unique())\n",
    "#wid_atividade"
   ]
  },
  {
   "cell_type": "code",
   "execution_count": 22,
   "metadata": {},
   "outputs": [],
   "source": [
    "import ipywidgets as widgets\n",
    "wid_ramo_atividade = widgets.Dropdown(name='Ramo de atuação')\n",
    "wid_ramo_atividade.options = list(dados_x_input['Ramo de atuação'].unique())\n",
    "#wid_ramo_atividade"
   ]
  },
  {
   "cell_type": "code",
   "execution_count": 23,
   "metadata": {},
   "outputs": [],
   "source": [
    "import ipywidgets as widgets\n",
    "\n",
    "wid_colaboradores = widgets.Dropdown(name='Colaboradores')\n",
    "wid_colaboradores.options = list(dados_x_input['Colaboradores'].unique())\n",
    "#wid_colaboradores"
   ]
  },
  {
   "cell_type": "code",
   "execution_count": 24,
   "metadata": {},
   "outputs": [],
   "source": [
    "import ipywidgets as widgets\n",
    "wid_gestor = widgets.Dropdown(name='Faixa etária gestor')\n",
    "wid_gestor.options = list(dados_x_input['Faixa etária gestor'].unique())\n",
    "#wid_gestor\n"
   ]
  },
  {
   "cell_type": "code",
   "execution_count": 25,
   "metadata": {},
   "outputs": [],
   "source": [
    "import ipywidgets as widgets\n",
    "wid_carac = widgets.Dropdown(name=\"Caracteristica do Gestor\")\n",
    "wid_carac.options = list(dados_x_input['Caracteristica do Gestor'].unique())\n",
    "#wid_carac\n"
   ]
  },
  {
   "cell_type": "code",
   "execution_count": 26,
   "metadata": {},
   "outputs": [],
   "source": [
    "import ipywidgets as widgets\n",
    "wid_fat = widgets.Dropdown(name='Faturamento estimado')\n",
    "wid_fat.options = list(dados_x_input['Faturamento estimado'].unique())\n",
    "#wid_fat"
   ]
  },
  {
   "cell_type": "code",
   "execution_count": 27,
   "metadata": {},
   "outputs": [],
   "source": [
    "import ipywidgets as widgets\n",
    "wid_input = widgets.Dropdown(name=\"Input\")\n",
    "wid_input.options = [1]\n",
    "#wid_input"
   ]
  },
  {
   "cell_type": "code",
   "execution_count": 28,
   "metadata": {},
   "outputs": [],
   "source": [
    "wid_atividade.value, wid_ramo_atividade.value, wid_colaboradores.value, wid_gestor.value, wid_carac.value, wid_fat.value, wid_input.value = 'COMÉRCIO', 'PANIFICAÇÃO', 'De 10 a 20', '50+', '\"Cabeça aberta\"', 'Até R$ 50 mil', 1\n",
    "\n",
    "# wid_colaboradores.value"
   ]
  },
  {
   "cell_type": "code",
   "execution_count": null,
   "metadata": {},
   "outputs": [
    {
     "data": {
      "application/vnd.jupyter.widget-view+json": {
       "model_id": "f23bc0c5b6694a0d88d54dbde8a406d5",
       "version_major": 2,
       "version_minor": 0
      },
      "text/plain": [
       "interactive(children=(Dropdown(description='atividade', index=1, options=('SERVIÇO', 'COMÉRCIO', 'INDÚSTRIA'),…"
      ]
     },
     "execution_count": 29,
     "metadata": {},
     "output_type": "execute_result"
    }
   ],
   "source": [
    "def func(atividade, ramo_atividade, colaboradores, gestor, carac, fat):\n",
    "\n",
    "    # wid_atividade.value, wid_ramo_atividade.value, wid_colaboradores.value, wid_gestor.value, wid_carac.value, wid_fat.value = 'COMÉRCIO', 'PANIFICAÇÃO', 'De 10 a 20', '50+', '\"Cabeça aberta\"', 'Até R$ 50 mil'\n",
    "\n",
    "    data = {\n",
    "    'Atividade': [wid_atividade.value],\n",
    "    'Ramo de atuação': [wid_ramo_atividade.value],\n",
    "    'Colaboradores': [wid_colaboradores.value],\n",
    "    'Faixa etária gestor': [wid_gestor.value],\n",
    "    'Caracteristica do Gestor': [wid_carac.value],\n",
    "    'Faturamento estimado': [wid_fat.value],\n",
    "    'Input': [wid_input.value]\n",
    "    }\n",
    "\n",
    "    dados_input = pd.DataFrame(data)\n",
    "\n",
    "    dados_x_input = dados.drop(dados[['Frequencia Suporte', 'Tipo de Suporte','Categoria Suporte','target_gestor','target_suporte']], axis=1)\n",
    "    dados_x_input['Input'] = 0\n",
    "\n",
    "    dados_input = pd.concat([dados_x_input, dados_input])\n",
    "\n",
    "    dummies = pd.get_dummies(dados_input)\n",
    "\n",
    "    dummies_input = dummies[dummies['Input'] == 1]\n",
    "    dummies_input = dummies_input.drop(dummies_input[['Input']], axis=1)\n",
    "\n",
    "    X = np.array(dummies_input.values)\n",
    "    print('Prevendo classificação para o dado de entrada... \\n 0 - Frequência de suporte + 1 Vez por Semana \\n 1 - Frequência de suporte menor do que 1 vez por semana')\n",
    "\n",
    "    print('')\n",
    "\n",
    "    # Fazendo a previsão das probabilidades\n",
    "    proba = clf2.predict_proba(X)\n",
    "\n",
    "\n",
    "    print(f'Classificação 0 --> {(proba[0][0] * 100):.2f}% de probabilidade')\n",
    "    print(f'Classificação 1 --> {(proba[0][1] * 100):.2f}% de probabilidade')\n",
    "\n",
    "    print()\n",
    "\n",
    "\n",
    "    predictions = model.predict(X)[-1]\n",
    "    print('A classificação predita foi', predictions)\n",
    "\n",
    "\n",
    "    # Performance do modelo:\n",
    "    print('\\nAcurácia do modelo:', round((score * 100),2), '%')\n",
    "\n",
    "\n",
    "\n",
    "interactive_func = widgets.interactive(func, atividade=wid_atividade, ramo_atividade=wid_ramo_atividade, colaboradores=wid_colaboradores, gestor=wid_gestor, carac=wid_carac, fat=wid_fat)\n",
    "\n",
    "\n",
    "output = interactive_func.children[-1]\n",
    "\n",
    "\n",
    "interactive_func\n",
    "# output\n",
    "#interactive_func"
   ]
  },
  {
   "cell_type": "code",
   "execution_count": 30,
   "metadata": {},
   "outputs": [],
   "source": [
    "# data = {}\n",
    "\n",
    "\n",
    "# for item in dados_x_input.columns[:-1]:\n",
    "    \n",
    "#     #print(f'Para a coluna de {item}')\n",
    "\n",
    "#     options = set(dados_x_input[item])\n",
    "\n",
    "#     lista_len = len(options)\n",
    "\n",
    "#     c = 1\n",
    "#     opt = []\n",
    "\n",
    "\n",
    "#     for op in options:\n",
    "#         list_add_opt = []\n",
    "#         list_add_opt = [[c], [op]]\n",
    "#         opt.append(list_add_opt)\n",
    "#         c += 1\n",
    "\n",
    "#     data[item] = opt\n",
    "\n",
    "# print(data)\n"
   ]
  },
  {
   "cell_type": "code",
   "execution_count": 31,
   "metadata": {},
   "outputs": [],
   "source": [
    "# import ipywidgets as widgets\n",
    "\n",
    "# data_input = {}\n",
    "\n",
    "# for k,v in data.items():\n",
    "#    # for i in k:\n",
    "#     print(f'Escolha o número da opção de {k}')\n",
    "\n",
    "#     opt_list = len(v)\n",
    "#     for i in range(0, opt_list):\n",
    "#         print(f'{v[i][0]} - {v[i][1]}')\n",
    "        \n",
    "#     number = 0\n",
    "#     while number not in range(1, opt_list + 1):\n",
    "        \n",
    "#         wid_opt = widgets.Dropdown(name='')\n",
    "#         number = int(input(f'Digite o número da opção. Escolha valores entre {range(1, opt_list+1)}'))\n",
    "#     print(f'Você escolheu a opção {v[number][1]}')\n",
    "    \n",
    "#     data_input[k] = v[number][1]\n",
    "\n",
    "# data_input['Input'] = [1]\n",
    "\n",
    "#print(data_input)"
   ]
  },
  {
   "cell_type": "code",
   "execution_count": 32,
   "metadata": {},
   "outputs": [],
   "source": [
    "# data_input = {}\n",
    "\n",
    "# for k,v in data.items():\n",
    "#    # for i in k:\n",
    "#     print(f'Escolha o número da opção de {k}')\n",
    "\n",
    "#     opt_list = len(v)\n",
    "#     for i in range(0, opt_list):\n",
    "#         print(f'{v[i][0]} - {v[i][1]}')\n",
    "        \n",
    "#     number = 0\n",
    "#     while number not in range(1, opt_list + 1):\n",
    "#         number = int(input(f'Digite o número da opção. Escolha valores entre {range(1, opt_list+1)}'))\n",
    "#     print(f'Você escolheu a opção {v[number][1]}')\n",
    "    \n",
    "#     data_input[k] = v[number][1]\n",
    "\n",
    "# data_input['Input'] = [1]\n",
    "\n",
    "# #print(data_input)"
   ]
  },
  {
   "cell_type": "code",
   "execution_count": 33,
   "metadata": {},
   "outputs": [],
   "source": [
    "# dados_input = pd.DataFrame(data_input)\n",
    "\n",
    "# dados_input = pd.concat([dados_x_input, dados_input])\n",
    "\n",
    "#dados_input.tail(3)"
   ]
  },
  {
   "cell_type": "code",
   "execution_count": 34,
   "metadata": {},
   "outputs": [],
   "source": [
    "## Realizando a previsão:\n",
    "## Adição manual\n",
    "\n",
    "# data = {\n",
    "#     'Atividade': ['COMÉRCIO'],\n",
    "#     'Ramo de atuação': ['PANIFICAÇÃO'],\n",
    "#     'Colaboradores': ['De 10 a 20'],\n",
    "#     'Faixa etária gestor': ['50+'],\n",
    "#     'Caracteristica do Gestor': ['\"Cabeça aberta\"'],\n",
    "#     'Faturamento estimado': ['Até R$ 50 mil'],\n",
    "#     'Input': [1]\n",
    "# }\n",
    "\n",
    "# dados_input = pd.DataFrame(data)\n",
    "\n",
    "# dados_input = pd.concat([dados_x_input, dados_input])\n",
    "\n",
    "# dados_input.tail(3)\n"
   ]
  }
 ],
 "metadata": {
  "kernelspec": {
   "display_name": "Python 3 (ipykernel)",
   "language": "python",
   "name": "python3"
  },
  "language_info": {
   "codemirror_mode": {
    "name": "ipython",
    "version": 3
   },
   "file_extension": ".py",
   "mimetype": "text/x-python",
   "name": "python",
   "nbconvert_exporter": "python",
   "pygments_lexer": "ipython3",
   "version": "3.10.2"
  }
 },
 "nbformat": 4,
 "nbformat_minor": 2
}
